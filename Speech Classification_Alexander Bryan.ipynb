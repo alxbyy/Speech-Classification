{
 "cells": [
  {
   "cell_type": "code",
   "execution_count": 1,
   "id": "14f1a10d",
   "metadata": {},
   "outputs": [
    {
     "name": "stdout",
     "output_type": "stream",
     "text": [
      "Predicted Class: [1]\n",
      "Accuracy: 0.45\n"
     ]
    }
   ],
   "source": [
    "import numpy as np\n",
    "import matplotlib.pyplot as plt\n",
    "import librosa\n",
    "from sklearn.model_selection import train_test_split\n",
    "from sklearn.ensemble import RandomForestClassifier\n",
    "from sklearn.metrics import accuracy_score\n",
    "\n",
    "# Load audio file\n",
    "file_path = \"C:/Users/Alexander Bryan/OAF_base_happy.wav\"\n",
    "audio, sr = librosa.load(file_path)\n",
    "\n",
    "# Extract audio features (MFCC)\n",
    "mfcc = librosa.feature.mfcc(y=audio, sr=sr)\n",
    "\n",
    "# Flatten the feature matrix\n",
    "mfcc_flat = mfcc.flatten().reshape(1, -1)\n",
    "\n",
    "# Generate a labeled dataset for training (replace with your own labeled data preparation)\n",
    "# Jika dataset labeled tidak tersedia, Anda perlu membuatnya terlebih dahulu\n",
    "# dengan membagi suara menjadi kategori yang sesuai dan mengekstrak fitur-fitur yang relevan dari setiap kategori.\n",
    "X = np.random.rand(100, mfcc_flat.shape[1])  # Contoh dataset fitur acak\n",
    "y = np.random.randint(0, 2, size=(100,))     # Contoh label acak\n",
    "\n",
    "# Split the dataset into training and testing sets\n",
    "X_train, X_test, y_train, y_test = train_test_split(X, y, test_size=0.2, random_state=42)\n",
    "\n",
    "# Train a Random Forest classifier\n",
    "clf = RandomForestClassifier(n_estimators=100, random_state=42)\n",
    "clf.fit(X_train, y_train)\n",
    "\n",
    "# Predict the class for the input audio\n",
    "predicted_class = clf.predict(mfcc_flat)\n",
    "\n",
    "# Print the predicted class\n",
    "print(\"Predicted Class:\", predicted_class)\n",
    "\n",
    "# Calculate the accuracy of the classifier\n",
    "y_pred = clf.predict(X_test)\n",
    "accuracy = accuracy_score(y_test, y_pred)\n",
    "print(\"Accuracy:\", accuracy)"
   ]
  },
  {
   "cell_type": "code",
   "execution_count": 2,
   "id": "a29b74dc",
   "metadata": {},
   "outputs": [
    {
     "name": "stdout",
     "output_type": "stream",
     "text": [
      "Predicted Class: [0]\n",
      "Accuracy: 0.45\n"
     ]
    },
    {
     "data": {
      "image/png": "[encoded data removed]",
      "text/plain": [
       "<Figure size 720x288 with 3 Axes>"
      ]
     },
     "metadata": {
      "needs_background": "light"
     },
     "output_type": "display_data"
    }
   ],
   "source": [
    "import numpy as np\n",
    "import matplotlib.pyplot as plt\n",
    "import librosa\n",
    "from sklearn.model_selection import train_test_split\n",
    "from sklearn.ensemble import RandomForestClassifier\n",
    "from sklearn.metrics import accuracy_score\n",
    "\n",
    "# Load audio file\n",
    "file_path = \"C:/Users/Alexander Bryan/OAF_base_happy.wav\"\n",
    "audio, sr = librosa.load(file_path)\n",
    "\n",
    "# Extract audio features (MFCC)\n",
    "mfcc = librosa.feature.mfcc(y=audio, sr=sr)\n",
    "\n",
    "# Flatten the feature matrix\n",
    "mfcc_flat = mfcc.flatten().reshape(1, -1)\n",
    "\n",
    "# Generate a labeled dataset for training (replace with your own labeled data preparation)\n",
    "# Jika dataset labeled tidak tersedia, Anda perlu membuatnya terlebih dahulu\n",
    "# dengan membagi suara menjadi kategori yang sesuai dan mengekstrak fitur-fitur yang relevan dari setiap kategori.\n",
    "X = np.random.rand(100, mfcc_flat.shape[1])  # Contoh dataset fitur acak\n",
    "y = np.random.randint(0, 2, size=(100,))     # Contoh label acak\n",
    "\n",
    "# Split the dataset into training and testing sets\n",
    "X_train, X_test, y_train, y_test = train_test_split(X, y, test_size=0.2, random_state=42)\n",
    "\n",
    "# Train a Random Forest classifier\n",
    "clf = RandomForestClassifier(n_estimators=100, random_state=42)\n",
    "clf.fit(X_train, y_train)\n",
    "\n",
    "# Predict the class for the input audio\n",
    "predicted_class = clf.predict(mfcc_flat)\n",
    "\n",
    "# Print the predicted class\n",
    "print(\"Predicted Class:\", predicted_class)\n",
    "\n",
    "# Calculate the accuracy of the classifier\n",
    "y_pred = clf.predict(X_test)\n",
    "accuracy = accuracy_score(y_test, y_pred)\n",
    "print(\"Accuracy:\", accuracy)\n",
    "\n",
    "# Plot MFCC features\n",
    "plt.figure(figsize=(10, 4))\n",
    "plt.subplot(2, 1, 1)\n",
    "librosa.display.specshow(mfcc, x_axis='time')\n",
    "plt.colorbar()\n",
    "plt.title('MFCC')\n",
    "plt.tight_layout()\n",
    "\n",
    "# Plot the predicted class\n",
    "plt.subplot(2, 1, 2)\n",
    "predicted_probabilities = clf.predict_proba(mfcc_flat)[0]\n",
    "classes = ['Class 0', 'Class 1']\n",
    "plt.bar(classes, predicted_probabilities)\n",
    "plt.title('Predicted Class Probabilities')\n",
    "plt.tight_layout()\n",
    "\n",
    "plt.show()"
   ]
  }
 ],
 "metadata": {
  "kernelspec": {
   "display_name": "Python 3 (ipykernel)",
   "language": "python",
   "name": "python3"
  },
  "language_info": {
   "codemirror_mode": {
    "name": "ipython",
    "version": 3
   },
   "file_extension": ".py",
   "mimetype": "text/x-python",
   "name": "python",
   "nbconvert_exporter": "python",
   "pygments_lexer": "ipython3",
   "version": "3.9.12"
  }
 },
 "nbformat": 4,
 "nbformat_minor": 5
}
